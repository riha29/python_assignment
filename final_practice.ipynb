{
  "nbformat": 4,
  "nbformat_minor": 0,
  "metadata": {
    "colab": {
      "provenance": [],
      "collapsed_sections": []
    },
    "kernelspec": {
      "name": "python3",
      "display_name": "Python 3"
    },
    "language_info": {
      "name": "python"
    }
  },
  "cells": [
    {
      "cell_type": "code",
      "execution_count": null,
      "metadata": {
        "id": "5wDxumB5xqyH"
      },
      "outputs": [],
      "source": [
        "class A:\n",
        "  temp = -5\n",
        "  def __init__(self):\n",
        "    self.sum = 0\n",
        "    self.y = 0\n",
        "    self.y = self.temp - 3\n",
        "    self.sum = A.temp + 2\n",
        "    A.temp -= 2\n",
        "  def methodA(self, m ,n):\n",
        "    x = 1\n",
        "    A.temp += 1\n",
        "    self.y = self.y + m + self.temp\n",
        "    x = x + 1 + n\n",
        "    self.sum = self.sum + x + self.y\n",
        "    print(f\"{x} {self.y} {self.sum}\")\n",
        " \n",
        "class B(A):\n",
        "  x = -10\n",
        "  def __init__(self, b = None):\n",
        "    super().__init__()\n",
        "    self.y = 4\n",
        "    self.temp = -5\n",
        "    self.sum = 2\n",
        "    if b == None:\n",
        "      self.y = self.temp + 3\n",
        "      self.sum = 3 + self.temp + 3\n",
        "      self.temp -= 2\n",
        "    else:\n",
        "      self.sum = b.sum\n",
        "      B.x = b.x\n",
        "      b.methodB(1,3)\n",
        "  def methodA(self, m, n):\n",
        "    x = 1\n",
        "    self.temp += 1\n",
        "    self.y = self.y + m + self.temp\n",
        "    x = x + 7 + n\n",
        "    super().methodA(x, m)\n",
        "    self.sum = self.sum + x + self.y\n",
        "    print(f\"{x} {self.y} {self.sum}\")\n",
        "  def methodB(self, m, n):\n",
        "    y = 3\n",
        "    y = y + self.y\n",
        "    B.x = self.y + 3 + self.temp\n",
        "    self.methodA(B.x, y)\n",
        "    self.sum = self.x + y + self.sum\n",
        "    print(f\"{B.x} {y} {self.sum}\")\n",
        " \n",
        "Consider the following code: \n",
        "a1 = A()\n",
        "b1 = B()\n",
        "b2 = B(b1)\n",
        "b1.methodA(3,2)\n",
        "b2.methodB(1,2)"
      ]
    },
    {
      "cell_type": "code",
      "source": [
        "class PlayerEarning:\n",
        "  def __init__(self, name):\n",
        "    self.name= name\n",
        "  def calculateTotal(self, wo_bonus, goal=''):\n",
        "    self.wo_bonus= wo_bonus\n",
        "    self.goal= goal\n",
        "    if self.goal!='':\n",
        "      if self.goal>30:\n",
        "        self.bonus= (5/100)*self.wo_bonus+ 10000\n",
        "      else:\n",
        "        self.bonus= (5/100)*self.wo_bonus\n",
        "    else:\n",
        "      self.bonus=0\n",
        "    self.total= self.wo_bonus+ self.bonus\n",
        "  def printDetails(self):\n",
        "    print(f\"Player Name: {self.name}\\nPlayer Season Earning without bonus: {self.wo_bonus}\\nBonus: {int(self.bonus)}\\nPlayer Season Earning After Bonus: {int(self.total)}\")\n",
        "\n",
        "\n",
        "print(\"**********************\")\n",
        "player1 = PlayerEarning('Buffon')\n",
        "player1.calculateTotal(250000)\n",
        "player1.printDetails()\n",
        "\n",
        "print(\"\\n**********************\")\n",
        "player2 = PlayerEarning('Dybala')\n",
        "player2.calculateTotal(250000, 31)\n",
        "player2.printDetails()\n",
        "\n",
        "print(\"\\n**********************\")\n",
        "player3 = PlayerEarning('Cuadrado')\n",
        "player3.calculateTotal(250000, 20)\n",
        "player3.printDetails()"
      ],
      "metadata": {
        "id": "jtSqDlts151X"
      },
      "execution_count": null,
      "outputs": []
    },
    {
      "cell_type": "code",
      "source": [
        "class myList:\n",
        "  def __init__(self, *args):\n",
        "    self.listy=[]\n",
        "    if len(args)!=0:\n",
        "      for i in args:\n",
        "        self.listy.append(i)\n",
        "    else:\n",
        "      self.listy.append(0)\n",
        "      self.summation=0\n",
        "  def sum(self):\n",
        "    self.summation=0\n",
        "    for i in self.listy:\n",
        "      self.summation+= i\n",
        "    print('Sum:',self.summation)\n",
        "  def merge(self, *args):\n",
        "    for i in args:\n",
        "      self.listy.append(i)\n",
        "  def average(self):\n",
        "    if self.summation==0:\n",
        "      self.avg=0\n",
        "    else:\n",
        "      self.avg= self.summation/(len(self.listy))\n",
        "    print('Average:', self.avg)\n",
        "\n",
        "\n",
        "l1 =  myList(2,3,4,5,6) #you might need a list inside your class to store the values\n",
        "l1.sum()\n",
        "l1.merge(4,5,9)\n",
        "l1.sum()\n",
        "l1.average()\n",
        "print('-----------------------------')\n",
        "l2 =  myList()\n",
        "l2.average()\n",
        "l2.merge(1,2,4,8)\n",
        "l2.sum()"
      ],
      "metadata": {
        "colab": {
          "base_uri": "https://localhost:8080/"
        },
        "id": "YiAjx6me5u1U",
        "outputId": "0c17bf96-8cd9-4749-ac58-035fe9d594ad"
      },
      "execution_count": null,
      "outputs": [
        {
          "output_type": "stream",
          "name": "stdout",
          "text": [
            "Sum: 20\n",
            "Sum: 38\n",
            "Average: 4.75\n",
            "-----------------------------\n",
            "Average: 0\n",
            "Sum: 15\n"
          ]
        }
      ]
    },
    {
      "cell_type": "code",
      "source": [
        "class University:\n",
        "  name  = \"ABC University\"\n",
        "  numberOfStudents = 0\n",
        "  admissionFee = 28000\n",
        "  Library = 2000\n",
        "  def __init__(self, n,i):\n",
        "    self.stName = n\n",
        "    self.stId = i         \t\n",
        "  def payment(self):\n",
        "    return self.admissionFee + self.Library\t\n",
        "  def __str__(self):\n",
        "    return \"Student Name: {}, ID: {}\\nFee: {}\".format(self.stName, self.stId, self.payment())\n",
        " \n",
        "# Write your codes here.\n",
        "class CSE_dept(University):\n",
        "  PerCreditFee= 6600\n",
        "  SemesterFee= 7700\n",
        "  LabFee= 2750\n",
        "  def __init__(self, name, id, credit=6):\n",
        "    super().__init__(name, id)\n",
        "    self.Credit= credit    \n",
        "  def __add__(self, other):\n",
        "    return self.payment()+other.payment()\n",
        "  def payment(self):\n",
        "    return self.admissionFee+ self.Library+ self.SemesterFee+ self.PerCreditFee*self.Credit+ self.LabFee\n",
        "  def payment_details(self):\n",
        "    University.numberOfStudents+=1\n",
        "    print(f\"\\nDETAILS:\\nAdmission Fee: {self.admissionFee}\\nLibrary Fee: {self.Library}\\nSemester Fee: {self.SemesterFee}\\nPer Credit Fee: {self.PerCreditFee}\\nNumber of credits: {self.Credit}\\nLab Fee: {self.LabFee}\")\n",
        "\n",
        "class PHR_dept(University):\n",
        "  PerCreditFee= 6600\n",
        "  SemesterFee= 11000\n",
        "  def __init__(self, name, id, credit=9):\n",
        "    super().__init__(name, id)\n",
        "    self.Credit= credit\n",
        "  def payment(self):\n",
        "    return self.admissionFee+ self.Library+ self.SemesterFee+ self.PerCreditFee*self.Credit\n",
        "  def __add__(self, other):\n",
        "    return self.payment()+other.payment()\n",
        "  def payment_details(self):\n",
        "    University.numberOfStudents+=1\n",
        "    print(f\"\\nDETAILS:\\nAdmission Fee: {self.admissionFee}\\nLibrary Fee: {self.Library}\\nSemester Fee: {self.SemesterFee}\\nPer Credit Fee: {self.PerCreditFee}\\nNumber of credits: {self.Credit}\")\n",
        "c1 = CSE_dept(\"Mary\",\"5678\")  \n",
        "print(c1)\n",
        "c1.payment_details()\n",
        "print(\"===========================\")\n",
        "p1 = PHR_dept(\"Simon\",\"91011\")  \n",
        "print(p1)\n",
        "p1.payment_details()\n",
        "print(\"===========================\")\n",
        "c2 = CSE_dept(\"Adam\",\"1234\", 12)  \n",
        "print(c2)\n",
        "c2.payment_details()\n",
        "print(\"===========================\")\n",
        "p2 = PHR_dept(\"David\",\"121314\", 15)  \n",
        "print(p2)\n",
        "p2.payment_details()\n",
        "print(\"===========================\")\n",
        "print(\"Total Number of Students:\", University.numberOfStudents)\n",
        "print(\"Total University Revenue:\", (c1 + c2) + (p1 + p2))\n",
        "print(\"===========================\")\n",
        "print(\"Due to the pandemic, admission and library fees have been reduced for all departments. \")\n",
        "University.admissionFee -= 1000\n",
        "University.Library -= 100\n",
        "print(\"The credit, semester and lab fees have been reduced for the CSE department. \")\n",
        "CSE_dept.PerCreditFee -= 100\n",
        "CSE_dept.SemesterFee -= 100\n",
        "CSE_dept.LabFee -=100\n",
        "print(\"The credit and semester fees have been reduced for the PHR department.\\n \")\n",
        "PHR_dept.PerCreditFee -= 100\n",
        "PHR_dept.SemesterFee -= 1000\n",
        "print(c1)\n",
        "print(p1)\n",
        "print(c2)\n",
        "print(p2)\n",
        "print(\"===========================\")\n",
        "print(\"Total Number of Students:\", University.numberOfStudents)\n",
        "print(\"Total University Revenue:\", (c1 + c2) + (p1 + p2))"
      ],
      "metadata": {
        "id": "zb0pcS9J5uy_",
        "colab": {
          "base_uri": "https://localhost:8080/"
        },
        "outputId": "5bbc7dc2-7fe6-48e9-876c-b1e703cffbc7"
      },
      "execution_count": 43,
      "outputs": [
        {
          "output_type": "stream",
          "name": "stdout",
          "text": [
            "Student Name: Mary, ID: 5678\n",
            "Fee: 80050\n",
            "\n",
            "DETAILS:\n",
            "Admission Fee: 28000\n",
            "Library Fee: 2000\n",
            "Semester Fee: 7700\n",
            "Per Credit Fee: 6600\n",
            "Number of credits: 6\n",
            "Lab Fee: 2750\n",
            "===========================\n",
            "Student Name: Simon, ID: 91011\n",
            "Fee: 100400\n",
            "\n",
            "DETAILS:\n",
            "Admission Fee: 28000\n",
            "Library Fee: 2000\n",
            "Semester Fee: 11000\n",
            "Per Credit Fee: 6600\n",
            "Number of credits: 9\n",
            "===========================\n",
            "Student Name: Adam, ID: 1234\n",
            "Fee: 119650\n",
            "\n",
            "DETAILS:\n",
            "Admission Fee: 28000\n",
            "Library Fee: 2000\n",
            "Semester Fee: 7700\n",
            "Per Credit Fee: 6600\n",
            "Number of credits: 12\n",
            "Lab Fee: 2750\n",
            "===========================\n",
            "Student Name: David, ID: 121314\n",
            "Fee: 140000\n",
            "\n",
            "DETAILS:\n",
            "Admission Fee: 28000\n",
            "Library Fee: 2000\n",
            "Semester Fee: 11000\n",
            "Per Credit Fee: 6600\n",
            "Number of credits: 15\n",
            "===========================\n",
            "Total Number of Students: 4\n",
            "Total University Revenue: 440100\n",
            "===========================\n",
            "Due to the pandemic, admission and library fees have been reduced for all departments. \n",
            "The credit, semester and lab fees have been reduced for the CSE department. \n",
            "The credit and semester fees have been reduced for the PHR department.\n",
            " \n",
            "Student Name: Mary, ID: 5678\n",
            "Fee: 78150\n",
            "Student Name: Simon, ID: 91011\n",
            "Fee: 97400\n",
            "Student Name: Adam, ID: 1234\n",
            "Fee: 117150\n",
            "Student Name: David, ID: 121314\n",
            "Fee: 136400\n",
            "===========================\n",
            "Total Number of Students: 4\n",
            "Total University Revenue: 429100\n"
          ]
        }
      ]
    },
    {
      "cell_type": "code",
      "source": [],
      "metadata": {
        "id": "nql-96kO5uwM"
      },
      "execution_count": null,
      "outputs": []
    },
    {
      "cell_type": "code",
      "source": [],
      "metadata": {
        "id": "oapaLhyM5uth"
      },
      "execution_count": null,
      "outputs": []
    },
    {
      "cell_type": "code",
      "source": [],
      "metadata": {
        "id": "JGogd2In5uqK"
      },
      "execution_count": null,
      "outputs": []
    },
    {
      "cell_type": "code",
      "source": [],
      "metadata": {
        "id": "WThk01CQ5umr"
      },
      "execution_count": null,
      "outputs": []
    },
    {
      "cell_type": "code",
      "source": [],
      "metadata": {
        "id": "ILLK-Oap5uj8"
      },
      "execution_count": null,
      "outputs": []
    },
    {
      "cell_type": "code",
      "source": [],
      "metadata": {
        "id": "J0ULVyW_5uhO"
      },
      "execution_count": null,
      "outputs": []
    },
    {
      "cell_type": "code",
      "source": [],
      "metadata": {
        "id": "ZpXa0jAy5uee"
      },
      "execution_count": null,
      "outputs": []
    },
    {
      "cell_type": "code",
      "source": [],
      "metadata": {
        "id": "yoheitZm5ubm"
      },
      "execution_count": null,
      "outputs": []
    },
    {
      "cell_type": "code",
      "source": [],
      "metadata": {
        "id": "-RCaVaE05uZE"
      },
      "execution_count": null,
      "outputs": []
    },
    {
      "cell_type": "code",
      "source": [],
      "metadata": {
        "id": "RssnSBiE5uRR"
      },
      "execution_count": null,
      "outputs": []
    }
  ]
}