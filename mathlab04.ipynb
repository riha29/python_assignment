{
  "cells": [
    {
      "cell_type": "markdown",
      "metadata": {
        "id": "bxRjJeqjdsWq"
      },
      "source": [
        "First order differential equations\n",
        "\n",
        "\n",
        "Reference model\n",
        "\\begin{cases} y' = f(x,y) \\\\ y(0)= y_0\\end{cases}\n",
        "\n",
        "Example\n",
        "Differential equation:\n",
        "\n",
        "\\begin{cases} y' = -{y^2\\over x^2} \\\\ y(1)= {1\\over 2}\\end{cases}\n",
        "\n",
        "\n",
        "\n",
        "​Analytical solution in Python (SymPy):\n"
      ]
    },
    {
      "cell_type": "markdown",
      "metadata": {
        "id": "ifHUPcNofObo"
      },
      "source": [
        "\n",
        "**Initialization and symbolic variables**"
      ]
    },
    {
      "cell_type": "code",
      "execution_count": null,
      "metadata": {
        "id": "CEm5TRvqfN25"
      },
      "outputs": [],
      "source": [
        "# Symbolic library and its initialization\n",
        "import sympy as sy\n",
        "\n",
        "sy.init_printing()\n",
        "\n",
        "# For function plot\n",
        "from sympy.plotting import plot\n",
        "\n",
        "# Some common variables\n",
        "x = sy.symbols('x')\n",
        "\n",
        "y = sy.Function('y')\n",
        "\n",
        "y1 = sy.Derivative(y(x), x)\n",
        "\n",
        "#print(y1)"
      ]
    },
    {
      "cell_type": "markdown",
      "metadata": {
        "id": "Ek1Qw59LfbSH"
      },
      "source": [
        "**General solution**"
      ]
    },
    {
      "cell_type": "code",
      "execution_count": null,
      "metadata": {
        "colab": {
          "base_uri": "https://localhost:8080/"
        },
        "id": "vbuGIb9YfbCv",
        "outputId": "610527ad-604e-4033-f94e-35a733e96fb5"
      },
      "outputs": [
        {
          "name": "stdout",
          "output_type": "stream",
          "text": [
            "         -x    \n",
            "y(x) = ────────\n",
            "       C₁⋅x + 1\n"
          ]
        }
      ],
      "source": [
        "# General solution\n",
        "\n",
        "# Definition\n",
        "eqdiff = y1 + (y(x)**2)/x**2\n",
        "\n",
        "# Solution\n",
        "sol = sy.dsolve(eqdiff, y(x))\n",
        "\n",
        "# Print\n",
        "sy.pprint(sol)"
      ]
    },
    {
      "cell_type": "markdown",
      "metadata": {
        "id": "08H7hFpBP7as"
      },
      "source": [
        "**Task 1**\n",
        "Solve the differential equation \n",
        "$y\n",
        "′\n",
        "=\n",
        "2\n",
        "t\n",
        "(\n",
        "25\n",
        "−\n",
        "y\n",
        ")$\n",
        "."
      ]
    },
    {
      "cell_type": "code",
      "execution_count": null,
      "metadata": {
        "id": "FPNqDqq0ZERL"
      },
      "outputs": [],
      "source": [
        "import sympy as sy\n",
        "sy.init_printing()\n",
        "from sympy.plotting import plot \n",
        "x = sy.symbols('x')\n",
        "t = sy.symbols('t')\n",
        "y = sy.Function('y')\n",
        "y1 = sy.Derivative(y(x), x)\n",
        "eqdiff = y1 - 2*t*(25-y(x))\n",
        "sol = sy.dsolve(eqdiff, y(x))\n",
        "sy.pprint(sol)"
      ]
    },
    {
      "cell_type": "markdown",
      "metadata": {
        "id": "eidjtkvjf3bY"
      },
      "source": [
        "**Solution with the initial condition**"
      ]
    },
    {
      "cell_type": "code",
      "execution_count": null,
      "metadata": {
        "colab": {
          "base_uri": "https://localhost:8080/"
        },
        "id": "JUDpZY9Ff3Mq",
        "outputId": "ce55101e-fd6e-477c-8159-6cef70e36d75"
      },
      "outputs": [
        {
          "name": "stdout",
          "output_type": "stream",
          "text": [
            "         -x   \n",
            "y(x) = ───────\n",
            "       1 - 3⋅x\n"
          ]
        }
      ],
      "source": [
        "# Solution with the given initial conditions\n",
        "sol = sy.dsolve(eqdiff, y(x),ics={y(1): '1/2'})\n",
        "sy.pprint(sol)\n"
      ]
    },
    {
      "cell_type": "markdown",
      "metadata": {
        "id": "5Z76SmLkQIi7"
      },
      "source": [
        "**Task 2:** Solve the initial value problem:\n",
        "$d\n",
        "y/\n",
        "d\n",
        "x\n",
        "=\n",
        "2\n",
        "x\n",
        ",\n",
        "y\n",
        "(\n",
        "0\n",
        ")\n",
        "=\n",
        "2$\n",
        "."
      ]
    },
    {
      "cell_type": "code",
      "execution_count": null,
      "metadata": {
        "id": "NGHt9iAocyK-"
      },
      "outputs": [],
      "source": [
        "import sympy as sy\n",
        "sy.init_printing()\n",
        "from sympy.plotting import plot \n",
        "x = sy.symbols('x')\n",
        "y = sy.Function('y')\n",
        "y1 = sy.Derivative(y(x), x)\n",
        "eqdiff = y1 - 2*x\n",
        "sol = sy.dsolve(eqdiff, y(x),ics={y(0): '2'})\n",
        "sy.pprint(sol)"
      ]
    },
    {
      "cell_type": "markdown",
      "metadata": {
        "id": "84E-_QmBgF5B"
      },
      "source": [
        "**Plot and svg**"
      ]
    },
    {
      "cell_type": "code",
      "execution_count": null,
      "metadata": {
        "colab": {
          "base_uri": "https://localhost:8080/",
          "height": 297
        },
        "id": "7f_E8Nc-gFQg",
        "outputId": "e1a17e3c-03b8-438d-ff78-0c188f57823a"
      },
      "outputs": [
        {
          "data": {
            "image/png": "[encoded data removed]",
            "text/plain": [
              "<Figure size 432x288 with 1 Axes>"
            ]
          },
          "metadata": {
            "needs_background": "light"
          },
          "output_type": "display_data"
        }
      ],
      "source": [
        "# Plotting\n",
        "\n",
        "title = sy.latex(sol.rhs)\n",
        "xtol = 1e-3\n",
        "p1 = plot(sol.rhs, (x,-1,1/3-xtol), show=False, ylim=[-10,10],)\n",
        "p2 = plot(sol.rhs, (x,1/3+xtol,1), show=False, ylim=[-10,10])\n",
        "p1.extend(p2)\n",
        "p1.show()\n",
        "\n",
        "# Save in svg format\n",
        "#p1.save(\"ode-1.svg\")"
      ]
    },
    {
      "cell_type": "markdown",
      "metadata": {
        "id": "HVEMy2bWglRM"
      },
      "source": [
        "**Plot using matplotlib**"
      ]
    },
    {
      "cell_type": "code",
      "execution_count": null,
      "metadata": {
        "colab": {
          "base_uri": "https://localhost:8080/",
          "height": 269
        },
        "id": "iv6pgZFcgk_w",
        "outputId": "7ac647b7-a418-48b2-af55-f7f2e98596af"
      },
      "outputs": [
        {
          "data": {
            "image/png": "[encoded data removed]",
            "text/plain": [
              "<Figure size 432x288 with 1 Axes>"
            ]
          },
          "metadata": {
            "needs_background": "light"
          },
          "output_type": "display_data"
        }
      ],
      "source": [
        "# plot using matplotlib\n",
        "f = sy.lambdify(x, sol.rhs, 'numpy')\n",
        "\n",
        "import numpy as np\n",
        "import matplotlib.pyplot as plt\n",
        "\n",
        "x1 = np.linspace(-1, 1/3-xtol, num=100)\n",
        "x2 = np.linspace(1/3+xtol, 2, num=100)\n",
        "\n",
        "plt.plot(x1, f(x1), '-', c='C0')\n",
        "plt.plot(x2, f(x2), '-', c='C0')\n",
        "plt.ylim(-10,10)\n",
        "plt.savefig(\"ode-1-mpl.svg\")\n",
        "plt.show()"
      ]
    },
    {
      "cell_type": "markdown",
      "metadata": {
        "id": "pqvcJTwPhxIQ"
      },
      "source": [
        "**Numerical solution in Python (SciPy)**\n",
        "\n",
        "Initialization and equation in the standard solver format"
      ]
    },
    {
      "cell_type": "code",
      "execution_count": null,
      "metadata": {
        "id": "Epg6HlEwddDD"
      },
      "outputs": [],
      "source": [
        "# Libraries\n",
        "import numpy as np\n",
        "import matplotlib.pyplot as plt\n",
        "from scipy.integrate import odeint\n",
        "\n",
        "# Model\n",
        "def model(y, t):\n",
        "    dydt = -y**2/t**2\n",
        "    return dydt"
      ]
    },
    {
      "cell_type": "markdown",
      "metadata": {
        "id": "3dvLJ-0wiUH9"
      },
      "source": [
        "**Numerical solution in a given interval**"
      ]
    },
    {
      "cell_type": "code",
      "execution_count": null,
      "metadata": {
        "id": "H26DKJSna-74"
      },
      "outputs": [],
      "source": [
        "# # Solution\n",
        "# t = np.linspace(1, 10, 100)\n",
        "# y0 = 1/2\n",
        "# sol = odeint(model, y0, t)\n",
        "\n",
        "# print(t,sol)"
      ]
    },
    {
      "cell_type": "markdown",
      "metadata": {
        "id": "kd51sdbXimZG"
      },
      "source": [
        "**Plot and svg export**"
      ]
    },
    {
      "cell_type": "code",
      "execution_count": null,
      "metadata": {
        "colab": {
          "base_uri": "https://localhost:8080/",
          "height": 265
        },
        "id": "S5sC_ktMbB_A",
        "outputId": "5e99629f-0874-4ffb-918a-b66f75475ada"
      },
      "outputs": [
        {
          "data": {
            "image/png": "[encoded data removed]",
            "text/plain": [
              "<Figure size 432x288 with 1 Axes>"
            ]
          },
          "metadata": {
            "needs_background": "light"
          },
          "output_type": "display_data"
        }
      ],
      "source": [
        "# plot\n",
        "#plt.figure(figsize=(11,9))\n",
        "plt.plot(t,sol, label=\"y\")\n",
        "plt.legend()\n",
        "\n",
        "# Save in svg format\n",
        "plt.savefig(\"ode_num-1.svg\")\n",
        "plt.show()"
      ]
    },
    {
      "cell_type": "markdown",
      "metadata": {
        "id": "BG0vyngKpzwT"
      },
      "source": [
        "***ASSIGNMENT***"
      ]
    },
    {
      "cell_type": "markdown",
      "metadata": {
        "id": "ouFDGPtvqbNy"
      },
      "source": [
        "**QUESTION1:**\n",
        "Solve the differential equation \n",
        "$y\n",
        "′\n",
        "=\n",
        "2\n",
        "t\n",
        "(\n",
        "25\n",
        "−\n",
        "y\n",
        ")$\n",
        "."
      ]
    },
    {
      "cell_type": "markdown",
      "metadata": {
        "id": "nXKJiu-RrCtp"
      },
      "source": [
        "**QUESTION2:** Solve the initial value problem:\n",
        "$d\n",
        "y/\n",
        "d\n",
        "x\n",
        "=\n",
        "2\n",
        "x\n",
        ",\n",
        "y\n",
        "(\n",
        "0\n",
        ")\n",
        "=\n",
        "2$\n",
        "."
      ]
    },
    {
      "cell_type": "markdown",
      "metadata": {
        "id": "prcd1kiurmAx"
      },
      "source": [
        "**QUESTION3:**\n",
        "Consider the equation of a freely falling object\n",
        "$dv/\n",
        "dt\n",
        "= g – bv^2$\n",
        "1. Solve the differential equation where Take $b = 1$ and $g = 10$\n",
        "2. Plot $v$ vs $t$\n",
        "3. Plot $b$ vs $t$ in different values of $b$, i.e $b = 1,$ $b = 2,$ $b = 3$, $b = -4$, and $b = -2$."
      ]
    },
    {
      "cell_type": "code",
      "execution_count": null,
      "metadata": {},
      "outputs": [],
      "source": [
        "# answer of task 01\n",
        "import sympy as sy\n",
        "sy.init_printing()\n",
        "from sympy.plotting import plot \n",
        "x = sy.symbols('x')\n",
        "t = sy.symbols('t')\n",
        "y = sy.Function('y')\n",
        "y1 = sy.Derivative(y(x), x)\n",
        "eqdiff = y1 - 2*t*(25-y(x))\n",
        "sol = sy.dsolve(eqdiff, y(x))\n",
        "sy.pprint(sol)"
      ]
    },
    {
      "cell_type": "code",
      "execution_count": null,
      "metadata": {},
      "outputs": [],
      "source": [
        "# answer of task 02\n",
        "import sympy as sy\n",
        "sy.init_printing()\n",
        "from sympy.plotting import plot \n",
        "x = sy.symbols('x')\n",
        "y = sy.Function('y')\n",
        "y1 = sy.Derivative(y(x), x)\n",
        "eqdiff = y1 - 2*x\n",
        "sol = sy.dsolve(eqdiff, y(x),ics={y(0): '2'})\n",
        "sy.pprint(sol)"
      ]
    },
    {
      "cell_type": "code",
      "execution_count": null,
      "metadata": {},
      "outputs": [],
      "source": [
        "# answer of the task 03 (01)\n",
        "import sympy as sy\n",
        "sy.init_printing()\n",
        "from sympy.plotting import plot\n",
        "v = sy.symbols('v')\n",
        "t = sy.Function('t')\n",
        "y1 = sy.Derivative(y(v), v)\n",
        "eqdiff = y1 + (10-(y(v)**2))\n",
        "result = sy.dsolve(eqdiff, y(v))\n",
        "sy.pprint(result)"
      ]
    },
    {
      "cell_type": "code",
      "execution_count": null,
      "metadata": {},
      "outputs": [],
      "source": [
        "# answer of the task 03 (02)\n",
        "import numpy as np\n",
        "import matplotlib.pyplot as plt\n",
        "from scipy.integrate import odeint\n",
        "def model(v, t):\n",
        "    dvdt = 10-(1*(v**2))            \n",
        "    return dvdt\n",
        "t = np.linspace(1, 10, 1001)\n",
        "y1 = 1/2\n",
        "result = odeint(model, y1, t)\n",
        "print(result)\n",
        "plt.plot(t,result, label=\"y\")\n",
        "plt.legend()"
      ]
    },
    {
      "cell_type": "code",
      "execution_count": null,
      "metadata": {},
      "outputs": [],
      "source": [
        "# answer of the task 03 (03)\n",
        "import numpy as np\n",
        "import sympy as sy\n",
        "import matplotlib.pyplot as plt\n",
        "from scipy.integrate import odeint\n",
        "def model(b,v):\n",
        "  dvdt = -b*v**2\n",
        "  return dvdt\n",
        "t = np.linspace(-4,3,1001)\n",
        "y1 = 1/10\n",
        "result = odeint(model, y1,t)\n",
        "print(result)\n",
        "plt.plot(t,result, label=\"y\")\n",
        "plt.legend()\n",
        "plt.savefig(\"ode_num-1.svg\")\n",
        "plt.show()"
      ]
    }
  ],
  "metadata": {
    "colab": {
      "collapsed_sections": [],
      "name": "First Order Differential Equations_Lab4.ipynb",
      "provenance": []
    },
    "kernelspec": {
      "display_name": "Python 3.10.2 64-bit",
      "language": "python",
      "name": "python3"
    },
    "language_info": {
      "name": "python",
      "version": "3.10.2"
    },
    "vscode": {
      "interpreter": {
        "hash": "afb734500600fd355917ca529030176ea0ca205570884b88f2f6f7d791fd3fbe"
      }
    }
  },
  "nbformat": 4,
  "nbformat_minor": 0
}
