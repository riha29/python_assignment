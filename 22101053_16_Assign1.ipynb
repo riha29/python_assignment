{
  "cells": [
    {
      "cell_type": "markdown",
      "metadata": {
        "id": "nQE6Ea-5bqUI"
      },
      "source": [
        "# ***Derivatives are used in machine learning to solve optimization issues like gradient descent to decide whether to raise or decrease weights when a function approaches its maximum or minimum. This lab will cover how these functions are used in Python***"
      ]
    },
    {
      "cell_type": "markdown",
      "metadata": {
        "id": "OIpG3uEQ3ljt"
      },
      "source": [
        "**Working with one variable only**\n"
      ]
    },
    {
      "cell_type": "markdown",
      "metadata": {
        "id": "5pkPOEZzd0cu"
      },
      "source": [
        "*Symbolic differentiation manipulates a given equation, using various rules, to produce the derivative of that equation.*"
      ]
    },
    {
      "cell_type": "code",
      "execution_count": null,
      "metadata": {
        "id": "9TDI--Y98yJ7"
      },
      "outputs": [],
      "source": [
        "Name=\"Faozia Islam\"\n",
        "ID=\"22101053\"\n",
        "Section=\"16\""
      ]
    },
    {
      "cell_type": "code",
      "execution_count": null,
      "metadata": {
        "colab": {
          "base_uri": "https://localhost:8080/"
        },
        "id": "MdHqB4BvwYRo",
        "outputId": "0666c681-2591-4431-82f8-e643a3bb613f"
      },
      "outputs": [
        {
          "name": "stdout",
          "output_type": "stream",
          "text": [
            "6*x**2 + 2*x + 3\n",
            "2*(6*x + 1)\n",
            "161\n",
            "107\n",
            "161.000000000000\n"
          ]
        }
      ],
      "source": [
        "#Import SymPy\n",
        "from sympy import* \n",
        "#Make a symbol\n",
        "x= symbols('x')\n",
        "#Write symbolic expression\n",
        "f = 2*x**3+ x**2 + 3*x+ 5\n",
        "#taking the first derivative of the function\n",
        "df= diff(f,x)\n",
        "#taking the nth derivative of the function (passing the third argument)\n",
        "df2= diff(f,x,2) \n",
        "#printing\n",
        "print(df)\n",
        "print(df2)\n",
        "#Substituting values into expressions\n",
        "print(f.subs(x,4))\n",
        "print(df.subs(x,4))\n",
        "#For evaluating a numerical expression into a floating point number use \"evalf\"\n",
        "print(f.subs(x,4).evalf())"
      ]
    },
    {
      "cell_type": "markdown",
      "metadata": {
        "id": "glPTXBEd3Ntc"
      },
      "source": [
        "**Working with multiple variables**\n",
        "\n",
        "# (this block is for student's practice, allow them some time to work with these by themselves)#"
      ]
    },
    {
      "cell_type": "code",
      "execution_count": null,
      "metadata": {
        "colab": {
          "base_uri": "https://localhost:8080/"
        },
        "id": "IWaMkdXZ0IR1",
        "outputId": "52ca5688-5a8b-49be-e085-bcc30edb0e86"
      },
      "outputs": [
        {
          "name": "stdout",
          "output_type": "stream",
          "text": [
            "40\n",
            "3*x**2 + 4*y\n",
            "6*x\n"
          ]
        }
      ],
      "source": [
        "x,y,z= symbols(\"x y z\")\n",
        "expr = x**3 + 4*x*y - z\n",
        "#performing multiple substitutions at once\n",
        "exprValue= expr.subs([(x, 2), (y, 4), (z, 0)]) #puuting values of x and y and z\n",
        "dfExpr = diff(expr,x)\n",
        "df2Expr = diff(expr,x,2)\n",
        "##printing\n",
        "print(exprValue)\n",
        "print(dfExpr)\n",
        "print(df2Expr)"
      ]
    },
    {
      "cell_type": "markdown",
      "metadata": {
        "id": "ZVip02BTIV8k"
      },
      "source": [
        "**The lambdify function**\n",
        "(Coverting SymPy expression to a numerical expression)\n"
      ]
    },
    {
      "cell_type": "code",
      "execution_count": null,
      "metadata": {
        "colab": {
          "base_uri": "https://localhost:8080/"
        },
        "id": "CedyHECt3KlH",
        "outputId": "9742135e-d915-4faf-fd9a-44ebd493b29c"
      },
      "outputs": [
        {
          "name": "stdout",
          "output_type": "stream",
          "text": [
            "77\n",
            "63\n"
          ]
        }
      ],
      "source": [
        "f = lambdify(x, f) #converting SymPy expression to a numerical expression\n",
        "df = lambdify(x, df)\n",
        "print(f(3))     #23\n",
        "#print(f(4))\n",
        "print(df(3))    #12"
      ]
    },
    {
      "cell_type": "markdown",
      "metadata": {
        "id": "e9VnYPlhRc11"
      },
      "source": [
        "**The lambdify function create options for evaluating expressions, including using other libraries like NumPy and SciPy.**"
      ]
    },
    {
      "cell_type": "code",
      "execution_count": null,
      "metadata": {
        "colab": {
          "base_uri": "https://localhost:8080/"
        },
        "id": "t0GJEE2gIkQU",
        "outputId": "46572fc6-71fe-47f5-da1e-ff55cfd67493"
      },
      "outputs": [
        {
          "name": "stdout",
          "output_type": "stream",
          "text": [
            "[-5 -4 -3 -2 -1  0  1  2  3  4  5]\n",
            "[143  91  51  23   7   3  11  31  63 107 163]\n"
          ]
        }
      ],
      "source": [
        "import numpy as np\n",
        "\n",
        "test_numbers = np.arange(-5,6)   \n",
        "\n",
        "a=f(test_numbers)\n",
        "print(test_numbers)\n",
        "\n",
        "print(a)"
      ]
    },
    {
      "cell_type": "markdown",
      "metadata": {
        "id": "xEyEtGx9omt6"
      },
      "source": [
        "# **If time allows, then let them try to implement the lambdify function for the multiple variables then move to plotting**"
      ]
    },
    {
      "cell_type": "markdown",
      "metadata": {
        "id": "16PcFEgAQoWV"
      },
      "source": [
        "**Plotting the Curve**"
      ]
    },
    {
      "cell_type": "code",
      "execution_count": null,
      "metadata": {
        "colab": {
          "base_uri": "https://localhost:8080/",
          "height": 265
        },
        "id": "ld7dJa5_QN3D",
        "outputId": "de0fa0ec-113b-41d0-98e5-7c5e19264f39"
      },
      "outputs": [
        {
          "data": {
            "image/png": "[encoded data removed]",
            "text/plain": [
              "<Figure size 432x288 with 1 Axes>"
            ]
          },
          "metadata": {
            "needs_background": "light"
          },
          "output_type": "display_data"
        }
      ],
      "source": [
        "\n",
        "# importing the required module\n",
        "import matplotlib.pyplot as plt\n",
        "\n",
        "# plotting the points \n",
        "plt.plot(test_numbers, a)\n",
        "  \n",
        "# # naming the x axis\n",
        "# plt.xlabel('x - axis')\n",
        "\n",
        "# # # naming the y axis\n",
        "# plt.ylabel('y - axis')\n",
        "  \n",
        "# # giving a title to the graph\n",
        "\n",
        "# plt.title('Shape of the Function')\n",
        "  \n",
        "# Plotting the graph\n",
        "plt.show()"
      ]
    },
    {
      "cell_type": "markdown",
      "metadata": {
        "id": "6xgj0VM1ndKz"
      },
      "source": [
        "**Assignment1** \n",
        "\n",
        "Find the minima and maxima of the following functions at a given interval \n",
        "\n",
        "1. y= 9x3−7x2+3x+10 in the interval [-5, 6]\n",
        "2. y= ln x [-5, 6]\n",
        "3. y= sin x [-5, 6]\n",
        "4. y= cos x [-5, 6]\n",
        "5. y= tan x [-5, 6]\n"
      ]
    },
    {
      "cell_type": "code",
      "execution_count": null,
      "metadata": {
        "id": "sBfx4HdmMVhU"
      },
      "outputs": [],
      "source": [
        "#Find the minimum value and the value of x for which this minimum occurs"
      ]
    },
    {
      "cell_type": "code",
      "execution_count": 1,
      "metadata": {
        "id": "xKwNql7REzrr"
      },
      "outputs": [
        {
          "ename": "ModuleNotFoundError",
          "evalue": "No module named 'sympy'",
          "output_type": "error",
          "traceback": [
            "\u001b[1;31m---------------------------------------------------------------------------\u001b[0m",
            "\u001b[1;31mModuleNotFoundError\u001b[0m                       Traceback (most recent call last)",
            "\u001b[1;32mc:\\Users\\User\\Downloads\\Derivative_Lab2.ipynb Cell 17'\u001b[0m in \u001b[0;36m<module>\u001b[1;34m\u001b[0m\n\u001b[0;32m      <a href='vscode-notebook-cell:/c%3A/Users/User/Downloads/Derivative_Lab2.ipynb#ch0000016?line=0'>1</a>\u001b[0m \u001b[39m#Your code here for problem 1\u001b[39;00m\n\u001b[1;32m----> <a href='vscode-notebook-cell:/c%3A/Users/User/Downloads/Derivative_Lab2.ipynb#ch0000016?line=1'>2</a>\u001b[0m \u001b[39mfrom\u001b[39;00m \u001b[39msympy\u001b[39;00m \u001b[39mimport\u001b[39;00m\u001b[39m*\u001b[39m\n\u001b[0;32m      <a href='vscode-notebook-cell:/c%3A/Users/User/Downloads/Derivative_Lab2.ipynb#ch0000016?line=2'>3</a>\u001b[0m \u001b[39mfrom\u001b[39;00m \u001b[39mscipy\u001b[39;00m\u001b[39m.\u001b[39;00m\u001b[39msignal\u001b[39;00m \u001b[39mimport\u001b[39;00m argrelextrema\n\u001b[0;32m      <a href='vscode-notebook-cell:/c%3A/Users/User/Downloads/Derivative_Lab2.ipynb#ch0000016?line=3'>4</a>\u001b[0m \u001b[39mimport\u001b[39;00m \u001b[39mmatplotlib\u001b[39;00m\u001b[39m.\u001b[39;00m\u001b[39mpyplot\u001b[39;00m \u001b[39mas\u001b[39;00m \u001b[39mplt\u001b[39;00m\n",
            "\u001b[1;31mModuleNotFoundError\u001b[0m: No module named 'sympy'"
          ]
        }
      ],
      "source": [
        "#Your code here for problem 1\n",
        "from sympy import*\n",
        "from scipy.signal import argrelextrema\n",
        "import matplotlib.pyplot as plt\n",
        "import numpy as np\n",
        "x=symbols('x')\n",
        "exp= 9*x**3- 7*x**2+ 3*x+ 10\n",
        "exp=lambdify(x,exp)\n",
        "test_numbers=np.arange(-5,6)\n",
        "a= exp(test_numbers)\n",
        "plt.plot(test_numbers, a)\n",
        "plt.show\n",
        "# for local maxima\n",
        "i= argrelextrema(a, np.greater)\n",
        "for seq in i:\n",
        "  print('Maxima:', a[seq])\n",
        "# for local minima\n",
        "i= argrelextrema(a, np.less)\n",
        "for seq in i:\n",
        "  print('Minima:', a[seq])"
      ]
    },
    {
      "cell_type": "code",
      "execution_count": null,
      "metadata": {
        "id": "yx5SZpGzEz7K"
      },
      "outputs": [],
      "source": [
        "#Your code here for problem 2\n",
        "from sympy import*\n",
        "from scipy.signal import argrelextrema\n",
        "import matplotlib.pyplot as plt\n",
        "import numpy as np\n",
        "x=symbols('x')\n",
        "exp= \"ln(x)\"\n",
        "exp=lambdify(x,exp)\n",
        "test_numbers=np.arange(-5,6)\n",
        "a= exp(test_numbers)\n",
        "plt.plot(test_numbers, a)\n",
        "plt.show\n",
        "# for local maxima\n",
        "i= argrelextrema(a, np.greater)\n",
        "for seq in i:\n",
        "  print('Maxima:', a[seq])\n",
        "# for local minima\n",
        "i= argrelextrema(a, np.less)\n",
        "for seq in i:\n",
        "  print('Minima:', a[seq])"
      ]
    },
    {
      "cell_type": "code",
      "execution_count": null,
      "metadata": {
        "id": "EC_xChd0E0CS"
      },
      "outputs": [],
      "source": [
        "#Your code here for problem 3\n",
        "from sympy import*\n",
        "from scipy.signal import argrelextrema\n",
        "import matplotlib.pyplot as plt\n",
        "import numpy as np\n",
        "x=symbols('x')\n",
        "exp= sin(x)\n",
        "exp=lambdify(x,exp)\n",
        "test_numbers=np.arange(-5,6)\n",
        "a= exp(test_numbers)\n",
        "plt.plot(test_numbers, a)\n",
        "plt.show\n",
        "# for local maxima\n",
        "i= argrelextrema(a, np.greater)\n",
        "for seq in i:\n",
        "  print('Maxima:', a[seq])\n",
        "# for local minima\n",
        "i= argrelextrema(a, np.less)\n",
        "for seq in i:\n",
        "  print('Minima:', a[seq])"
      ]
    },
    {
      "cell_type": "code",
      "execution_count": null,
      "metadata": {
        "id": "mS6K9XyTE0LD"
      },
      "outputs": [],
      "source": [
        "#Your code here for problem 4\n",
        "from sympy import*\n",
        "from scipy.signal import argrelextrema\n",
        "import matplotlib.pyplot as plt\n",
        "import numpy as np\n",
        "x=symbols('x')\n",
        "exp= cos(x)\n",
        "exp=lambdify(x,exp)\n",
        "test_numbers=np.arange(-5,6)\n",
        "a= exp(test_numbers)\n",
        "plt.plot(test_numbers, a)\n",
        "plt.show\n",
        "# for local maxima\n",
        "i= argrelextrema(a, np.greater)\n",
        "for seq in i:\n",
        "  print('Maxima:', a[seq])\n",
        "# for local minima\n",
        "i= argrelextrema(a, np.less)\n",
        "for seq in i:\n",
        "  print('Minima:', a[seq])"
      ]
    },
    {
      "cell_type": "code",
      "execution_count": null,
      "metadata": {
        "id": "xebtMWY9E0VB"
      },
      "outputs": [],
      "source": [
        "#Your code here for problem 5\n",
        "from sympy import*\n",
        "from scipy.signal import argrelextrema\n",
        "import matplotlib.pyplot as plt\n",
        "import numpy as np\n",
        "x=symbols('x')\n",
        "exp= tan(x)\n",
        "exp=lambdify(x,exp)\n",
        "test_numbers=np.arange(-5,6)\n",
        "a= exp(test_numbers)\n",
        "plt.plot(test_numbers, a)\n",
        "plt.show\n",
        "# for local maxima\n",
        "i= argrelextrema(a, np.greater)\n",
        "for seq in i:\n",
        "  print('Maxima:', a[seq])\n",
        "# for local minima\n",
        "i= argrelextrema(a, np.less)\n",
        "for seq in i:\n",
        "  print('Minima:', a[seq])"
      ]
    }
  ],
  "metadata": {
    "colab": {
      "collapsed_sections": [],
      "name": "Derivative_Lab2.ipynb",
      "provenance": []
    },
    "kernelspec": {
      "display_name": "Python 3.10.2 64-bit",
      "language": "python",
      "name": "python3"
    },
    "language_info": {
      "codemirror_mode": {
        "name": "ipython",
        "version": 3
      },
      "file_extension": ".py",
      "mimetype": "text/x-python",
      "name": "python",
      "nbconvert_exporter": "python",
      "pygments_lexer": "ipython3",
      "version": "3.10.2"
    },
    "vscode": {
      "interpreter": {
        "hash": "afb734500600fd355917ca529030176ea0ca205570884b88f2f6f7d791fd3fbe"
      }
    }
  },
  "nbformat": 4,
  "nbformat_minor": 0
}
