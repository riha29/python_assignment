{
  "nbformat": 4,
  "nbformat_minor": 0,
  "metadata": {
    "colab": {
      "name": "practice-1.ipynb",
      "provenance": [],
      "collapsed_sections": []
    },
    "kernelspec": {
      "name": "python3",
      "display_name": "Python 3"
    },
    "language_info": {
      "name": "python"
    }
  },
  "cells": [
    {
      "cell_type": "code",
      "execution_count": null,
      "metadata": {
        "id": "qVvBq32kBGRt"
      },
      "outputs": [],
      "source": [
        "# 01\n",
        "class Student:\n",
        "  ID=0\n",
        "  def __init__(self, name, department, age, cgpa):\n",
        "    self.name= name\n",
        "    self.dept= department\n",
        "    self.age= age\n",
        "    self.cgpa= cgpa\n",
        "  def get_details(self):\n",
        "    Student.ID+= 1\n",
        "    print(f\"ID: {Student.ID}\\nName: {self.name}\\nDepartment: {self.dept}\\nAge: {self.age}\\nCGPA: {self.cgpa}\")\n",
        "\n",
        "  @classmethod\n",
        "  def from_String(cls, det):\n",
        "    name, dept, age, cgpa= det.split('-')\n",
        "    info= cls(name, dept, age, cgpa)\n",
        "    return info\n",
        "    \n",
        "s1 = Student(\"Samin\", \"CSE\", 21, 3.91)\n",
        "s1.get_details()\n",
        "print(\"-----------------------\")\n",
        "s2 = Student(\"Fahim\", \"ECE\", 21, 3.85)\n",
        "s2.get_details()\n",
        "print(\"-----------------------\")\n",
        "s3 = Student(\"Tahura\", \"EEE\", 22, 3.01)\n",
        "s3.get_details()\n",
        "print(\"-----------------------\")\n",
        "s4 = Student.from_String(\"Sumaiya-BBA-23-3.96\")\n",
        "s4.get_details()"
      ]
    },
    {
      "cell_type": "code",
      "source": [
        "# 02\n",
        "class Assassin:\n",
        "  Assassin=0\n",
        "  def __init__(self, name, rate):\n",
        "    self.name= name\n",
        "    self.rate= rate\n",
        "  @classmethod\n",
        "  def failureRate(cls, name, rate1):\n",
        "    return cls(name, 100-rate1)\n",
        "  @classmethod\n",
        "  def failurePercentage(cls, name, rate2):\n",
        "    rate=''\n",
        "    for i in rate2:\n",
        "      if i==\"%\":\n",
        "        break\n",
        "      else:\n",
        "        rate+= i\n",
        "    return cls(name, 100-int(rate))\n",
        "  def printDetails(self):\n",
        "    Assassin.Assassin+= 1\n",
        "    print(f'Name: {self.name}\\nSuccess rate: {self.rate}%\\nTotal Number of Assasin: {Assassin.Assassin} ')\n",
        "john_wick = Assassin('John Wick', 100)\n",
        "john_wick.printDetails()\n",
        "print('================================')\n",
        "nagisa = Assassin.failureRate(\"Nagisa\", 20)\n",
        "nagisa.printDetails()\n",
        "print('================================')\n",
        "akabane = Assassin.failurePercentage(\"Akabane\", \"10%\")\n",
        "akabane.printDetails()"
      ],
      "metadata": {
        "id": "uaPD3oomNbYL"
      },
      "execution_count": null,
      "outputs": []
    },
    {
      "cell_type": "code",
      "source": [
        "# 03\n",
        "class Passenger:\n",
        "  count= 0\n",
        "  def __init__(self, name):\n",
        "    self.name= name\n",
        "    self.fare= 450\n",
        "  def set_bag_weight(self, weight):\n",
        "    self.weight= weight\n",
        "  def printDetail(self):\n",
        "    if 21<=self.weight<=50:\n",
        "      self.fare+=50\n",
        "    elif 50<self.weight:\n",
        "      self.fare+=100\n",
        "    Passenger.count+= 1\n",
        "    print(f\"Name: {self.name}\\nBus Fare: {self.fare}\")\n",
        "\n",
        "print('Total Passenger:', Passenger.count)\n",
        "p1 = Passenger('Jack')\n",
        "p1.set_bag_weight(90)\n",
        "p2 = Passenger('Carol')\n",
        "p2.set_bag_weight(10)\n",
        "p3 = Passenger('Mike')\n",
        "p3.set_bag_weight(25)\n",
        "print(\"=========================\")\n",
        "p1.printDetail()\n",
        "print(\"=========================\")\n",
        "p2.printDetail()\n",
        "print(\"=========================\")\n",
        "p3.printDetail()\n",
        "print(\"=========================\")\n",
        "print('Total Passenger:', Passenger.count)"
      ],
      "metadata": {
        "id": "gUznS7tkNbc6"
      },
      "execution_count": null,
      "outputs": []
    },
    {
      "cell_type": "code",
      "source": [
        "# 04\n",
        "class Travel:\n",
        "  count= 0\n",
        "  def __init__(self, source, destination):\n",
        "    self.source= source\n",
        "    self.destination= destination\n",
        "    self.time= '1:00'\n",
        "  def display_travel_info(self):\n",
        "    Travel.count+= 1\n",
        "    return f\"Source: {self.source}\\nDestination: {self.destination}\\nFlight Time: {self.time}\"\n",
        "  def set_time(self, new_time):\n",
        "    self.time= str(new_time)    \n",
        "  def set_destination(self, new_destination):\n",
        "    self.destination= new_destination\n",
        "  def set_source(self, new_source):\n",
        "    self.source= new_source\n",
        "print('No. of Traveller =', Travel.count)\n",
        "print(\"=======================\")\n",
        "t1 = Travel(\"Dhaka\",\"India\")\n",
        "print(t1.display_travel_info())\n",
        "print(\"=======================\")\n",
        "t2 = Travel(\"Kuala Lampur\",\"Dhaka\")\n",
        "t2.set_time(23)\n",
        "print(t2.display_travel_info())\n",
        "print(\"=======================\")\n",
        "t3 = Travel(\"Dhaka\",\"New_Zealand\")\n",
        "t3.set_time(15)\n",
        "t3.set_destination(\"Germany\")\n",
        "print(t3.display_travel_info())\n",
        "print(\"=======================\")\n",
        "t4 = Travel(\"Dhaka\",\"India\")\n",
        "t4.set_time(9)\n",
        "t4.set_source(\"Malaysia\")\n",
        "t4.set_destination(\"Canada\")\n",
        "print(t4.display_travel_info())\n",
        "print(\"=======================\")\n",
        "print('No. of Traveller =', Travel.count)"
      ],
      "metadata": {
        "id": "SigRSTgtNbgn"
      },
      "execution_count": null,
      "outputs": []
    },
    {
      "cell_type": "code",
      "source": [
        "# 05\n",
        "class Employee:\n",
        "  def __init__(self, name, workingPeriod):\n",
        "    self.name= name\n",
        "    self.workingPeriod= workingPeriod\n",
        "  @classmethod\n",
        "  def employeeByJoiningYear(cls, name, year):\n",
        "    return cls(name, 2022-year)\n",
        "  @staticmethod\n",
        "  def experienceCheck(workingPeriod, gender):\n",
        "    if workingPeriod<3:\n",
        "      if gender=='male':\n",
        "        return ('He is not experienced')\n",
        "      else:\n",
        "        return ('She is not experienced')\n",
        "    else:\n",
        "      if gender=='male':\n",
        "        return ('He is experienced')\n",
        "      else:\n",
        "        return ('She is experienced')\n",
        "employee1 = Employee('Dororo', 3)\n",
        "employee2 = Employee.employeeByJoiningYear('Harry', 2016)\n",
        "print(employee1.workingPeriod)\n",
        "print(employee2.workingPeriod)\n",
        "print(employee1.name)\n",
        "print(employee2.name)\n",
        "print(Employee.experienceCheck(2, \"male\"))\n",
        "print(Employee.experienceCheck(3, \"female\"))"
      ],
      "metadata": {
        "id": "utJKpmLkNbkG"
      },
      "execution_count": null,
      "outputs": []
    },
    {
      "cell_type": "code",
      "source": [
        "# 06\n",
        "class Laptop:\n",
        "  laptopCount= 0\n",
        "  def __init__(self, name, count):\n",
        "    self.name= name\n",
        "    self.count= count\n",
        "    Laptop.laptopCount+= self.count\n",
        "  @classmethod\n",
        "  def advantage(cls):\n",
        "    print('Laptops are portable')\n",
        "  @staticmethod\n",
        "  def resetCount():\n",
        "    Laptop.laptopCount=0\n",
        "    return Laptop.laptopCount\n",
        "\n",
        "lenovo = Laptop(\"Lenovo\", 5);\n",
        "dell = Laptop(\"Dell\", 7);\n",
        "print(lenovo.name, lenovo.count)\n",
        "print(dell.name, dell.count)\n",
        "print(\"Total number of Laptops\", Laptop.laptopCount)\n",
        "Laptop.advantage()\n",
        "Laptop.resetCount()\n",
        "print(\"Total number of Laptops\", Laptop.laptopCount)"
      ],
      "metadata": {
        "id": "RnNjUMcTNbml"
      },
      "execution_count": null,
      "outputs": []
    },
    {
      "cell_type": "code",
      "source": [
        "# 07\n",
        "print(\"Total number of cats:\", Cat.Number_of_cats)\n",
        "c1 = Cat.no_parameter()\n",
        "c2 = Cat.first_parameter(\"Black\")\n",
        "c3 = Cat(\"Brown\", \"jumping\")\n",
        "c4 = Cat(\"Red\", \"purring\")\n",
        "c5 = Cat.second_parameter(\"playing\")\n",
        "print(\"=======================\")\n",
        "c1.printCat()\n",
        "c2.printCat()\n",
        "c3.printCat()\n",
        "c4.printCat()\n",
        "c5.printCat()\n",
        "c1.changeColor(\"Blue\")\n",
        "c3.changeColor(\"Purple\")\n",
        "c1.printCat()\n",
        "c3.printCat()\n",
        "print(\"=======================\")\n",
        "print(\"Total number of cats:\", Cat.Number_of_cats)"
      ],
      "metadata": {
        "id": "c-A_DG3_Nbpt"
      },
      "execution_count": null,
      "outputs": []
    },
    {
      "cell_type": "code",
      "source": [
        "# 08\n",
        "import math\n",
        "class Cylinder:\n",
        "  radius= 5\n",
        "  height= 18\n",
        "  def __init__(self, r, h):\n",
        "    self.radius= r\n",
        "    self.height= h\n",
        "    print(f\"Default radius={Cylinder.radius} and height={Cylinder.height}\")\n",
        "    print(f\"Updated: radius={self.radius} and height={self.height}\")\n",
        "    Cylinder.radius= self.radius\n",
        "    Cylinder.height= self.height\n",
        "  @staticmethod\n",
        "  def area(r, h):\n",
        "    area= float(2*math.pi*int(r)**2 + 2*math.pi*int(r)*int(h))\n",
        "    print('Area: ', area)\n",
        "  @staticmethod\n",
        "  def volume(r, h):\n",
        "    volume= float(math.pi*int(r)**2*int(h))\n",
        "    print('Volume: ', volume)\n",
        "  @classmethod\n",
        "  def swap(cls, h, r):\n",
        "    cls.h, cls.r= h,r \n",
        "    return cls(cls.r, cls.h)\n",
        "  @classmethod\n",
        "  def changeFormat(cls, det):\n",
        "    r, h= det.split('-')\n",
        "    return cls(r,h)\n",
        "\n",
        "c1 = Cylinder(0,0)\n",
        "Cylinder.area(c1.radius,c1.height)\n",
        "Cylinder.volume(c1.radius,c1.height)\n",
        "print(\"===============================\")\n",
        "c2 = Cylinder.swap(8,3)\n",
        "c2.area(c2.radius,c2.height)\n",
        "c2.volume(c2.radius,c2.height)\n",
        "print(\"===============================\")\n",
        "c3 = Cylinder.changeFormat(\"7-13\")\n",
        "c3.area(c3.radius,c3.height)\n",
        "c3.volume(c3.radius,c3.height)\n",
        "print(\"===============================\")\n",
        "Cylinder(0.3,5.56).area(Cylinder.radius,Cylinder.height)\n",
        "print(\"===============================\")\n",
        "Cylinder(3,5).volume(Cylinder.radius,Cylinder.height)"
      ],
      "metadata": {
        "colab": {
          "base_uri": "https://localhost:8080/"
        },
        "id": "o90bQDtAH-a7",
        "outputId": "92228ccc-b3ef-453a-f4ef-eb4adfe9798d"
      },
      "execution_count": null,
      "outputs": [
        {
          "output_type": "stream",
          "name": "stdout",
          "text": [
            "Default radius=5 and height=18\n",
            "Updated: radius=0 and height=0\n",
            "Area:  0.0\n",
            "Volume:  0.0\n",
            "===============================\n",
            "Default radius=0 and height=0\n",
            "Updated: radius=3 and height=8\n",
            "Area:  207.34511513692635\n",
            "Volume:  226.1946710584651\n",
            "===============================\n",
            "Default radius=3 and height=8\n",
            "Updated: radius=7 and height=13\n",
            "Area:  879.645943005142\n",
            "Volume:  2001.1945203366981\n",
            "===============================\n",
            "Default radius=7 and height=13\n",
            "Updated: radius=0.3 and height=5.56\n",
            "Area:  0.0\n",
            "===============================\n",
            "Default radius=0.3 and height=5.56\n",
            "Updated: radius=3 and height=5\n",
            "Volume:  141.3716694115407\n"
          ]
        }
      ]
    },
    {
      "cell_type": "code",
      "source": [
        ""
      ],
      "metadata": {
        "id": "hekEhUtKH-X4"
      },
      "execution_count": null,
      "outputs": []
    },
    {
      "cell_type": "code",
      "source": [
        ""
      ],
      "metadata": {
        "id": "wT-Oq2OMH-U9"
      },
      "execution_count": null,
      "outputs": []
    },
    {
      "cell_type": "code",
      "source": [
        ""
      ],
      "metadata": {
        "id": "0TtQZG_LH-QU"
      },
      "execution_count": null,
      "outputs": []
    },
    {
      "cell_type": "code",
      "source": [
        ""
      ],
      "metadata": {
        "id": "TmCT2a-IH-MB"
      },
      "execution_count": null,
      "outputs": []
    },
    {
      "cell_type": "code",
      "source": [
        ""
      ],
      "metadata": {
        "id": "6a8gh8iMH-Jd"
      },
      "execution_count": null,
      "outputs": []
    },
    {
      "cell_type": "code",
      "source": [
        ""
      ],
      "metadata": {
        "id": "d-WKPPjvH-GU"
      },
      "execution_count": null,
      "outputs": []
    },
    {
      "cell_type": "code",
      "source": [
        ""
      ],
      "metadata": {
        "id": "Y7bqcY-JH-Dl"
      },
      "execution_count": null,
      "outputs": []
    },
    {
      "cell_type": "code",
      "source": [
        ""
      ],
      "metadata": {
        "id": "YW2-v5iAH94T"
      },
      "execution_count": null,
      "outputs": []
    }
  ]
}